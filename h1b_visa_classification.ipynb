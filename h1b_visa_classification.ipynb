{
 "cells": [
  {
   "cell_type": "markdown",
   "metadata": {
    "colab_type": "text",
    "id": "yM_-xcBQ0Zx7"
   },
   "source": [
    "## Importing LIbraries"
   ]
  },
  {
   "cell_type": "code",
   "execution_count": 0,
   "metadata": {
    "colab": {},
    "colab_type": "code",
    "id": "cToRj5a2zzSr"
   },
   "outputs": [],
   "source": [
    "import pandas as pd\n",
    "import matplotlib.pyplot as plt\n",
    "import seaborn  as sns\n",
    "import numpy as np\n",
    "\n",
    "import warnings\n",
    "\n",
    "warnings.filterwarnings(\"ignore\")\n"
   ]
  },
  {
   "cell_type": "code",
   "execution_count": 0,
   "metadata": {
    "colab": {},
    "colab_type": "code",
    "id": "HAWiMueY5G9q"
   },
   "outputs": [],
   "source": [
    "# Code to read csv file into Colaboratory:\n",
    "\n",
    "!pip install -U -q PyDrive\n",
    "from pydrive.auth import GoogleAuth\n",
    "from pydrive.drive import GoogleDrive\n",
    "from google.colab import auth\n",
    "from oauth2client.client import GoogleCredentials\n",
    "\n",
    "# Authenticate and create the PyDrive client.\n",
    "auth.authenticate_user()\n",
    "gauth = GoogleAuth()\n",
    "gauth.credentials = GoogleCredentials.get_application_default()\n",
    "drive = GoogleDrive(gauth)"
   ]
  },
  {
   "cell_type": "code",
   "execution_count": 0,
   "metadata": {
    "colab": {},
    "colab_type": "code",
    "id": "PMQwFNmt6-D4"
   },
   "outputs": [],
   "source": [
    "link = \"https://drive.google.com/open?id=19QIBAWLiehuZhV84eXTi2Mw5nR34hqIN\""
   ]
  },
  {
   "cell_type": "code",
   "execution_count": 0,
   "metadata": {
    "colab": {},
    "colab_type": "code",
    "id": "29DfJhSR7nJI"
   },
   "outputs": [],
   "source": [
    "fluff , id = link.split('=')"
   ]
  },
  {
   "cell_type": "markdown",
   "metadata": {
    "colab_type": "text",
    "id": "zP3gU0N_0k69"
   },
   "source": [
    "## Reading data"
   ]
  },
  {
   "cell_type": "code",
   "execution_count": 0,
   "metadata": {
    "colab": {},
    "colab_type": "code",
    "id": "7yifeh4l8MUY"
   },
   "outputs": [],
   "source": [
    "downloaded = drive.CreateFile({'id':id}) \n",
    "downloaded.GetContentFile('h1bvisa.csv')  \n",
    "dataset = pd.read_csv('h1bvisa.csv', encoding ='latin1')"
   ]
  },
  {
   "cell_type": "markdown",
   "metadata": {
    "colab_type": "text",
    "id": "wJ7He2Nz0pqn"
   },
   "source": [
    "## Exploratory analysis"
   ]
  },
  {
   "cell_type": "code",
   "execution_count": 6,
   "metadata": {
    "colab": {
     "base_uri": "https://localhost:8080/",
     "height": 462
    },
    "colab_type": "code",
    "id": "Xr0C8RzW-5X3",
    "outputId": "5dbf0ec7-8cb7-4633-8710-209d9c815350"
   },
   "outputs": [
    {
     "data": {
      "text/html": [
       "<div>\n",
       "<style scoped>\n",
       "    .dataframe tbody tr th:only-of-type {\n",
       "        vertical-align: middle;\n",
       "    }\n",
       "\n",
       "    .dataframe tbody tr th {\n",
       "        vertical-align: top;\n",
       "    }\n",
       "\n",
       "    .dataframe thead th {\n",
       "        text-align: right;\n",
       "    }\n",
       "</style>\n",
       "<table border=\"1\" class=\"dataframe\">\n",
       "  <thead>\n",
       "    <tr style=\"text-align: right;\">\n",
       "      <th></th>\n",
       "      <th>Unnamed: 0</th>\n",
       "      <th>CASE_STATUS</th>\n",
       "      <th>EMPLOYER_NAME</th>\n",
       "      <th>SOC_NAME</th>\n",
       "      <th>JOB_TITLE</th>\n",
       "      <th>FULL_TIME_POSITION</th>\n",
       "      <th>PREVAILING_WAGE</th>\n",
       "      <th>YEAR</th>\n",
       "      <th>WORKSITE</th>\n",
       "      <th>lon</th>\n",
       "      <th>lat</th>\n",
       "    </tr>\n",
       "  </thead>\n",
       "  <tbody>\n",
       "    <tr>\n",
       "      <th>0</th>\n",
       "      <td>1</td>\n",
       "      <td>CERTIFIED-WITHDRAWN</td>\n",
       "      <td>UNIVERSITY OF MICHIGAN</td>\n",
       "      <td>BIOCHEMISTS AND BIOPHYSICISTS</td>\n",
       "      <td>POSTDOCTORAL RESEARCH FELLOW</td>\n",
       "      <td>N</td>\n",
       "      <td>36067</td>\n",
       "      <td>20£1*6</td>\n",
       "      <td>ANN ARBOR, MICHIGAN</td>\n",
       "      <td>-83.7430378</td>\n",
       "      <td>42.2808256</td>\n",
       "    </tr>\n",
       "    <tr>\n",
       "      <th>1</th>\n",
       "      <td>2</td>\n",
       "      <td>CERTIFIED-WITHDRAWN</td>\n",
       "      <td>GOODMAN NETWORKS, INC.</td>\n",
       "      <td>CHIEF EXECUTIVES232</td>\n",
       "      <td>CHIEF OPERATING OFFICER</td>\n",
       "      <td>Y</td>\n",
       "      <td>242674</td>\n",
       "      <td>20£1*6</td>\n",
       "      <td>PLANO, TEXAS</td>\n",
       "      <td>-96.6988856</td>\n",
       "      <td>33.0198431</td>\n",
       "    </tr>\n",
       "    <tr>\n",
       "      <th>2</th>\n",
       "      <td>3</td>\n",
       "      <td>CERTIFIED-WITHDRAWN</td>\n",
       "      <td>PORTS AMERICA GROUP, INC.</td>\n",
       "      <td>CHIEF EXECUTIVES232</td>\n",
       "      <td>CHIEF PROCESS OFFICER</td>\n",
       "      <td>Y</td>\n",
       "      <td>193066</td>\n",
       "      <td>20£1*6</td>\n",
       "      <td>JERSEY CITY, NEW JERSEY</td>\n",
       "      <td>-74.0776417</td>\n",
       "      <td>40.7281575</td>\n",
       "    </tr>\n",
       "    <tr>\n",
       "      <th>3</th>\n",
       "      <td>4</td>\n",
       "      <td>CERTIFIED-WITHDRAWN</td>\n",
       "      <td>GATES CORPORATION, A WHOLLY-OWNED SUBSIDIARY O...</td>\n",
       "      <td>CHIEF EXECUTIVES232</td>\n",
       "      <td>REGIONAL PRESIDEN, AMERICAS</td>\n",
       "      <td>Y</td>\n",
       "      <td>220314</td>\n",
       "      <td>20£1*6</td>\n",
       "      <td>DENVER, COLORADO</td>\n",
       "      <td>-104.990251</td>\n",
       "      <td>39.7392358</td>\n",
       "    </tr>\n",
       "    <tr>\n",
       "      <th>4</th>\n",
       "      <td>5</td>\n",
       "      <td>WITHDRAWN</td>\n",
       "      <td>PEABODY INVESTMENTS CORP.</td>\n",
       "      <td>CHIEF EXECUTIVES232</td>\n",
       "      <td>PRESIDENT MONGOLIA AND INDIA</td>\n",
       "      <td>Y</td>\n",
       "      <td>157518.4</td>\n",
       "      <td>20£1*6</td>\n",
       "      <td>ST. LOUIS, MISSOURI</td>\n",
       "      <td>-90.1994042</td>\n",
       "      <td>38.6270025</td>\n",
       "    </tr>\n",
       "  </tbody>\n",
       "</table>\n",
       "</div>"
      ],
      "text/plain": [
       "  Unnamed: 0          CASE_STATUS  \\\n",
       "0          1  CERTIFIED-WITHDRAWN   \n",
       "1          2  CERTIFIED-WITHDRAWN   \n",
       "2          3  CERTIFIED-WITHDRAWN   \n",
       "3          4  CERTIFIED-WITHDRAWN   \n",
       "4          5            WITHDRAWN   \n",
       "\n",
       "                                       EMPLOYER_NAME  \\\n",
       "0                             UNIVERSITY OF MICHIGAN   \n",
       "1                             GOODMAN NETWORKS, INC.   \n",
       "2                          PORTS AMERICA GROUP, INC.   \n",
       "3  GATES CORPORATION, A WHOLLY-OWNED SUBSIDIARY O...   \n",
       "4                          PEABODY INVESTMENTS CORP.   \n",
       "\n",
       "                        SOC_NAME                     JOB_TITLE  \\\n",
       "0  BIOCHEMISTS AND BIOPHYSICISTS  POSTDOCTORAL RESEARCH FELLOW   \n",
       "1            CHIEF EXECUTIVES232       CHIEF OPERATING OFFICER   \n",
       "2            CHIEF EXECUTIVES232         CHIEF PROCESS OFFICER   \n",
       "3            CHIEF EXECUTIVES232   REGIONAL PRESIDEN, AMERICAS   \n",
       "4            CHIEF EXECUTIVES232  PRESIDENT MONGOLIA AND INDIA   \n",
       "\n",
       "  FULL_TIME_POSITION PREVAILING_WAGE    YEAR                 WORKSITE  \\\n",
       "0                  N           36067  20£1*6      ANN ARBOR, MICHIGAN   \n",
       "1                  Y          242674  20£1*6             PLANO, TEXAS   \n",
       "2                  Y          193066  20£1*6  JERSEY CITY, NEW JERSEY   \n",
       "3                  Y          220314  20£1*6         DENVER, COLORADO   \n",
       "4                  Y        157518.4  20£1*6      ST. LOUIS, MISSOURI   \n",
       "\n",
       "           lon         lat  \n",
       "0  -83.7430378  42.2808256  \n",
       "1  -96.6988856  33.0198431  \n",
       "2  -74.0776417  40.7281575  \n",
       "3  -104.990251  39.7392358  \n",
       "4  -90.1994042  38.6270025  "
      ]
     },
     "execution_count": 6,
     "metadata": {
      "tags": []
     },
     "output_type": "execute_result"
    }
   ],
   "source": [
    "# samples out dataset\n",
    "dataset.head()"
   ]
  },
  {
   "cell_type": "code",
   "execution_count": 7,
   "metadata": {
    "colab": {
     "base_uri": "https://localhost:8080/",
     "height": 289
    },
    "colab_type": "code",
    "id": "2esGx3sx_KWf",
    "outputId": "b4182218-c862-4f5b-c7ce-794bc71c0546"
   },
   "outputs": [
    {
     "name": "stdout",
     "output_type": "stream",
     "text": [
      "<class 'pandas.core.frame.DataFrame'>\n",
      "RangeIndex: 3002458 entries, 0 to 3002457\n",
      "Data columns (total 11 columns):\n",
      "Unnamed: 0            object\n",
      "CASE_STATUS           object\n",
      "EMPLOYER_NAME         object\n",
      "SOC_NAME              object\n",
      "JOB_TITLE             object\n",
      "FULL_TIME_POSITION    object\n",
      "PREVAILING_WAGE       object\n",
      "YEAR                  object\n",
      "WORKSITE              object\n",
      "lon                   object\n",
      "lat                   object\n",
      "dtypes: object(11)\n",
      "memory usage: 252.0+ MB\n"
     ]
    }
   ],
   "source": [
    "# checking data information\n",
    "dataset.info()"
   ]
  },
  {
   "cell_type": "code",
   "execution_count": 8,
   "metadata": {
    "colab": {
     "base_uri": "https://localhost:8080/",
     "height": 204
    },
    "colab_type": "code",
    "id": "Ego2-QB0_UZL",
    "outputId": "319d873c-8515-4b0d-9f1c-c51b454f6384"
   },
   "outputs": [
    {
     "data": {
      "text/plain": [
       "['Unnamed: 0',\n",
       " 'CASE_STATUS',\n",
       " 'EMPLOYER_NAME',\n",
       " 'SOC_NAME',\n",
       " 'JOB_TITLE',\n",
       " 'FULL_TIME_POSITION',\n",
       " 'PREVAILING_WAGE',\n",
       " 'YEAR',\n",
       " 'WORKSITE',\n",
       " 'lon',\n",
       " 'lat']"
      ]
     },
     "execution_count": 8,
     "metadata": {
      "tags": []
     },
     "output_type": "execute_result"
    }
   ],
   "source": [
    "dataset.columns.tolist()"
   ]
  },
  {
   "cell_type": "code",
   "execution_count": 0,
   "metadata": {
    "colab": {},
    "colab_type": "code",
    "id": "2HNNIi8F_ZKc"
   },
   "outputs": [],
   "source": [
    "# feature selection\n",
    "df = dataset.drop(columns=['Unnamed: 0','YEAR', 'lon','lat','JOB_TITLE'], index=1)"
   ]
  },
  {
   "cell_type": "code",
   "execution_count": 10,
   "metadata": {
    "colab": {
     "base_uri": "https://localhost:8080/",
     "height": 136
    },
    "colab_type": "code",
    "id": "QrIuf24qAJqp",
    "outputId": "1de2f41a-81f8-4169-e794-dfe66364e79a"
   },
   "outputs": [
    {
     "data": {
      "text/plain": [
       "CASE_STATUS              13\n",
       "EMPLOYER_NAME            59\n",
       "SOC_NAME              17734\n",
       "FULL_TIME_POSITION       15\n",
       "PREVAILING_WAGE          85\n",
       "WORKSITE                  0\n",
       "dtype: int64"
      ]
     },
     "execution_count": 10,
     "metadata": {
      "tags": []
     },
     "output_type": "execute_result"
    }
   ],
   "source": [
    "#Checking for nulls \n",
    "\n",
    "df.isnull().sum()"
   ]
  },
  {
   "cell_type": "markdown",
   "metadata": {
    "colab_type": "text",
    "id": "xa0H_nQjAbC0"
   },
   "source": [
    "## Data wraggling"
   ]
  },
  {
   "cell_type": "code",
   "execution_count": 0,
   "metadata": {
    "colab": {},
    "colab_type": "code",
    "id": "MvAxPuAgAl-T"
   },
   "outputs": [],
   "source": [
    "# dropping null obseravation on case status\n",
    "\n",
    "df = df.dropna(axis= 0 , how='any', subset=['CASE_STATUS'])"
   ]
  },
  {
   "cell_type": "code",
   "execution_count": 0,
   "metadata": {
    "colab": {},
    "colab_type": "code",
    "id": "RbmEvhGuCmkY"
   },
   "outputs": [],
   "source": [
    "#filling null values with mode\n",
    "df['EMPLOYER_NAME'] = df['EMPLOYER_NAME'].fillna(df['EMPLOYER_NAME'].mode()[0])"
   ]
  },
  {
   "cell_type": "code",
   "execution_count": 0,
   "metadata": {
    "colab": {},
    "colab_type": "code",
    "id": "tWILpH7VDJMd"
   },
   "outputs": [],
   "source": [
    "df['FULL_TIME_POSITION'] = df['FULL_TIME_POSITION'].fillna(df['FULL_TIME_POSITION'].mode()[0])"
   ]
  },
  {
   "cell_type": "code",
   "execution_count": 14,
   "metadata": {
    "colab": {
     "base_uri": "https://localhost:8080/",
     "height": 85
    },
    "colab_type": "code",
    "id": "29aSO2teDnGj",
    "outputId": "f94a5777-5613-4bbc-b9bc-c6d2d7889fac"
   },
   "outputs": [
    {
     "data": {
      "text/plain": [
       "Y     2576112\n",
       "N      425920\n",
       "No        412\n",
       "Name: FULL_TIME_POSITION, dtype: int64"
      ]
     },
     "execution_count": 14,
     "metadata": {
      "tags": []
     },
     "output_type": "execute_result"
    }
   ],
   "source": [
    "#checking for unique values in position\n",
    "df['FULL_TIME_POSITION'].value_counts()"
   ]
  },
  {
   "cell_type": "code",
   "execution_count": 0,
   "metadata": {
    "colab": {},
    "colab_type": "code",
    "id": "UE7I2UCbD3A-"
   },
   "outputs": [],
   "source": [
    "# replacing No with N\n",
    "df['FULL_TIME_POSITION'] = df['FULL_TIME_POSITION'].replace('No', 'N')"
   ]
  },
  {
   "cell_type": "code",
   "execution_count": 0,
   "metadata": {
    "colab": {},
    "colab_type": "code",
    "id": "D24dl4DcFISP"
   },
   "outputs": [],
   "source": [
    "# Changing wage dtype to float\n",
    "\n",
    "df['PREVAILING_WAGE'] = pd.to_numeric(df['PREVAILING_WAGE'], errors='coerce')"
   ]
  },
  {
   "cell_type": "code",
   "execution_count": 0,
   "metadata": {
    "colab": {},
    "colab_type": "code",
    "id": "K5dLctFsEnK2"
   },
   "outputs": [],
   "source": [
    "# filling null with median\n",
    "\n",
    "df['PREVAILING_WAGE'] = df['PREVAILING_WAGE'].fillna(df['PREVAILING_WAGE'].median())"
   ]
  },
  {
   "cell_type": "code",
   "execution_count": 18,
   "metadata": {
    "colab": {
     "base_uri": "https://localhost:8080/",
     "height": 204
    },
    "colab_type": "code",
    "id": "8bdX8pdFJEBG",
    "outputId": "b6d8c9a6-a75b-48de-f77b-8158fb5ff7c4"
   },
   "outputs": [
    {
     "name": "stdout",
     "output_type": "stream",
     "text": [
      "<class 'pandas.core.frame.DataFrame'>\n",
      "Int64Index: 17721 entries, 17398 to 3002358\n",
      "Data columns (total 6 columns):\n",
      "CASE_STATUS           17721 non-null object\n",
      "EMPLOYER_NAME         17721 non-null object\n",
      "SOC_NAME              0 non-null object\n",
      "FULL_TIME_POSITION    17721 non-null object\n",
      "PREVAILING_WAGE       17721 non-null float64\n",
      "WORKSITE              17721 non-null object\n",
      "dtypes: float64(1), object(5)\n",
      "memory usage: 969.1+ KB\n"
     ]
    }
   ],
   "source": [
    "df[df['SOC_NAME'].isnull()].info()"
   ]
  },
  {
   "cell_type": "code",
   "execution_count": 0,
   "metadata": {
    "colab": {},
    "colab_type": "code",
    "id": "gJPifPy9KY9e"
   },
   "outputs": [],
   "source": [
    "#filling soc name null values with mode\n",
    "\n",
    "df['SOC_NAME'] = df['SOC_NAME'].fillna(df['SOC_NAME'].mode()[0])"
   ]
  },
  {
   "cell_type": "code",
   "execution_count": 20,
   "metadata": {
    "colab": {
     "base_uri": "https://localhost:8080/",
     "height": 170
    },
    "colab_type": "code",
    "id": "v2xrRIl5LKBp",
    "outputId": "e3040fc9-417c-4d0d-f968-709eff2ce658"
   },
   "outputs": [
    {
     "data": {
      "text/plain": [
       "CERTIFIED                                             2615623\n",
       "CERTIFIED-WITHDRAWN                                    201707\n",
       "DENIED                                                  94346\n",
       "WITHDRAWN                                               89799\n",
       "CERTIFIED-+--WITHDRAWN                                    951\n",
       "PENDING QUALITY AND COMPLIANCE REVIEW - UNASSIGNED         15\n",
       "REJECTED                                                    2\n",
       "INVALIDATED                                                 1\n",
       "Name: CASE_STATUS, dtype: int64"
      ]
     },
     "execution_count": 20,
     "metadata": {
      "tags": []
     },
     "output_type": "execute_result"
    }
   ],
   "source": [
    "#checking unique values in Case status\n",
    "\n",
    "df['CASE_STATUS'].value_counts()"
   ]
  },
  {
   "cell_type": "code",
   "execution_count": 0,
   "metadata": {
    "colab": {},
    "colab_type": "code",
    "id": "5poNDrWXLdoM"
   },
   "outputs": [],
   "source": [
    "# dropping observation  with null as status case\n",
    "\n",
    "df = df.drop(df[df['CASE_STATUS'] == 'WITHDRAWN'].index )\n",
    "  "
   ]
  },
  {
   "cell_type": "code",
   "execution_count": 0,
   "metadata": {
    "colab": {},
    "colab_type": "code",
    "id": "lUcGsqdlMOLQ"
   },
   "outputs": [],
   "source": [
    "# function that converts status to 1 for Certfified and 0 for rejected \n",
    "\n",
    "def clean_status(val):\n",
    "  if val == 'CERTIFIED':\n",
    "    return 1\n",
    "  else:\n",
    "    return 0"
   ]
  },
  {
   "cell_type": "code",
   "execution_count": 0,
   "metadata": {
    "colab": {},
    "colab_type": "code",
    "id": "5rmkb1tEODQI"
   },
   "outputs": [],
   "source": [
    "df['CASE_STATUS'] = df['CASE_STATUS'].apply(clean_status)"
   ]
  },
  {
   "cell_type": "code",
   "execution_count": 24,
   "metadata": {
    "colab": {
     "base_uri": "https://localhost:8080/",
     "height": 68
    },
    "colab_type": "code",
    "id": "1s9glb3pOLL9",
    "outputId": "4fe25636-3961-4425-ced9-669dfd852ec6"
   },
   "outputs": [
    {
     "data": {
      "text/plain": [
       "1    2615623\n",
       "0     297022\n",
       "Name: CASE_STATUS, dtype: int64"
      ]
     },
     "execution_count": 24,
     "metadata": {
      "tags": []
     },
     "output_type": "execute_result"
    }
   ],
   "source": [
    "# confirming new values in case status \n",
    "df['CASE_STATUS'].value_counts()"
   ]
  },
  {
   "cell_type": "code",
   "execution_count": 0,
   "metadata": {
    "colab": {},
    "colab_type": "code",
    "id": "jDHExU3COZ5B"
   },
   "outputs": [],
   "source": [
    "#Getting state from workste\n",
    "\n",
    "df['WORKSITE'] = df['WORKSITE'].str.split('\\s+').str[-1]"
   ]
  },
  {
   "cell_type": "code",
   "execution_count": 0,
   "metadata": {
    "colab": {},
    "colab_type": "code",
    "id": "FwHsIvwRRAo9"
   },
   "outputs": [],
   "source": [
    "df['OCCUPATION'] = np.nan\n",
    "df['SOC_NAME'] = df['SOC_NAME'].str.lower()\n",
    "df.OCCUPATION[df['SOC_NAME'].str.contains('computer','programmer')] = 'computer occupations'\n",
    "df.OCCUPATION[df['SOC_NAME'].str.contains('software','web developer')] = 'computer occupations'\n",
    "df.OCCUPATION[df['SOC_NAME'].str.contains('database')] = 'computer occupations'\n",
    "df.OCCUPATION[df['SOC_NAME'].str.contains('math','statistic')] = 'Mathematical Occupations'\n",
    "df.OCCUPATION[df['SOC_NAME'].str.contains('predictive model','stats')] = 'Mathematical Occupations'\n",
    "df.OCCUPATION[df['SOC_NAME'].str.contains('teacher','linguist')] = 'Education Occupations'\n",
    "df.OCCUPATION[df['SOC_NAME'].str.contains('professor','Teach')] = 'Education Occupations'\n",
    "df.OCCUPATION[df['SOC_NAME'].str.contains('school principal')] = 'Education Occupations'\n",
    "df.OCCUPATION[df['SOC_NAME'].str.contains('medical','doctor')] = 'Medical Occupations'\n",
    "df.OCCUPATION[df['SOC_NAME'].str.contains('physician','dentist')] = 'Medical Occupations'\n",
    "df.OCCUPATION[df['SOC_NAME'].str.contains('Health','Physical Therapists')] = 'Medical Occupations'\n",
    "df.OCCUPATION[df['SOC_NAME'].str.contains('surgeon','nurse')] = 'Medical Occupations'\n",
    "df.OCCUPATION[df['SOC_NAME'].str.contains('psychiatr')] = 'Medical Occupations'\n",
    "df.OCCUPATION[df['SOC_NAME'].str.contains('chemist','physicist')] = 'Advance Sciences'\n",
    "df.OCCUPATION[df['SOC_NAME'].str.contains('biology','scientist')] = 'Advance Sciences'\n",
    "df.OCCUPATION[df['SOC_NAME'].str.contains('biologi','clinical research')] = 'Advance Sciences'\n",
    "df.OCCUPATION[df['SOC_NAME'].str.contains('public relation','manage')] = 'Management Occupation'\n",
    "df.OCCUPATION[df['SOC_NAME'].str.contains('management','operation')] = 'Management Occupation'\n",
    "df.OCCUPATION[df['SOC_NAME'].str.contains('chief','plan')] = 'Management Occupation'\n",
    "df.OCCUPATION[df['SOC_NAME'].str.contains('executive')] = 'Management Occupation'\n",
    "df.OCCUPATION[df['SOC_NAME'].str.contains('advertis','marketing')] = 'Marketing Occupation'\n",
    "df.OCCUPATION[df['SOC_NAME'].str.contains('promotion','market research')] = 'Marketing Occupation'\n",
    "df.OCCUPATION[df['SOC_NAME'].str.contains('business','business analyst')] = 'Business Occupation'\n",
    "df.OCCUPATION[df['SOC_NAME'].str.contains('business systems analyst')] = 'Business Occupation'\n",
    "df.OCCUPATION[df['SOC_NAME'].str.contains('accountant','finance')] = 'Financial Occupation'\n",
    "df.OCCUPATION[df['SOC_NAME'].str.contains('financial')] = 'Financial Occupation'\n",
    "df.OCCUPATION[df['SOC_NAME'].str.contains('engineer','architect')] = 'Architecture & Engineering'\n",
    "df.OCCUPATION[df['SOC_NAME'].str.contains('surveyor','carto')] = 'Architecture & Engineering'\n",
    "df.OCCUPATION[df['SOC_NAME'].str.contains('technician','drafter')] = 'Architecture & Engineering'\n",
    "df.OCCUPATION[df['SOC_NAME'].str.contains('information security','information tech')] = 'Architecture & Engineering'\n",
    "df['OCCUPATION']= df.OCCUPATION.replace(np.nan, 'Others', regex=True)"
   ]
  },
  {
   "cell_type": "code",
   "execution_count": 0,
   "metadata": {
    "colab": {},
    "colab_type": "code",
    "id": "dKH5E87oIe-I"
   },
   "outputs": [],
   "source": [
    "df['EMPLOYER_NAME'] = df['EMPLOYER_NAME'].str.lower()\n",
    "df['EMPLOYER'] = np.nan\n",
    "df['EMPLOYER'][df['EMPLOYER_NAME'].str.contains('university')]= 'university'\n",
    "df['EMPLOYER']= df['EMPLOYER'].replace(np.nan, 'non university', regex=True)"
   ]
  },
  {
   "cell_type": "code",
   "execution_count": 0,
   "metadata": {
    "colab": {},
    "colab_type": "code",
    "id": "dXbLcuZ9Ldqh"
   },
   "outputs": [],
   "source": [
    "df = df.drop(columns=['EMPLOYER_NAME','SOC_NAME'], axis=1)"
   ]
  },
  {
   "cell_type": "markdown",
   "metadata": {
    "colab_type": "text",
    "id": "bm_-ePyNQUZA"
   },
   "source": [
    "## Feature selection"
   ]
  },
  {
   "cell_type": "code",
   "execution_count": 0,
   "metadata": {
    "colab": {},
    "colab_type": "code",
    "id": "dcqTEc_GOy3N"
   },
   "outputs": [],
   "source": [
    "X = df[['FULL_TIME_POSITION','PREVAILING_WAGE','WORKSITE','OCCUPATION']]"
   ]
  },
  {
   "cell_type": "code",
   "execution_count": 0,
   "metadata": {
    "colab": {},
    "colab_type": "code",
    "id": "XLpz25ZrOHUF"
   },
   "outputs": [],
   "source": [
    "y = df['CASE_STATUS'].values"
   ]
  },
  {
   "cell_type": "markdown",
   "metadata": {
    "colab_type": "text",
    "id": "n-cR9sckQ6Ka"
   },
   "source": [
    "## Test train"
   ]
  },
  {
   "cell_type": "code",
   "execution_count": 0,
   "metadata": {
    "colab": {},
    "colab_type": "code",
    "id": "RYNQu4IXQ48_"
   },
   "outputs": [],
   "source": [
    "from sklearn.model_selection import train_test_split"
   ]
  },
  {
   "cell_type": "code",
   "execution_count": 0,
   "metadata": {
    "colab": {},
    "colab_type": "code",
    "id": "HCW3J_ktRJI0"
   },
   "outputs": [],
   "source": [
    "X_train, X_test, y_train, y_test = train_test_split(X, y, test_size=0.30, random_state=42)"
   ]
  },
  {
   "cell_type": "markdown",
   "metadata": {
    "colab_type": "text",
    "id": "h4_afIUoRgoI"
   },
   "source": [
    "## Label encoding"
   ]
  },
  {
   "cell_type": "code",
   "execution_count": 0,
   "metadata": {
    "colab": {},
    "colab_type": "code",
    "id": "DyZhoyOXRavN"
   },
   "outputs": [],
   "source": [
    "from sklearn.preprocessing import LabelEncoder , OneHotEncoder"
   ]
  },
  {
   "cell_type": "code",
   "execution_count": 0,
   "metadata": {
    "colab": {},
    "colab_type": "code",
    "id": "eA7QjIm8SSX_"
   },
   "outputs": [],
   "source": [
    "X_train = pd.get_dummies(X_train)"
   ]
  },
  {
   "cell_type": "code",
   "execution_count": 0,
   "metadata": {
    "colab": {},
    "colab_type": "code",
    "id": "p6C7lLNKXYMv"
   },
   "outputs": [],
   "source": [
    "X_test = pd.get_dummies(X_test)"
   ]
  },
  {
   "cell_type": "markdown",
   "metadata": {
    "colab_type": "text",
    "id": "UaPZWdpMbnj5"
   },
   "source": [
    "## Train and predict"
   ]
  },
  {
   "cell_type": "code",
   "execution_count": 0,
   "metadata": {
    "colab": {},
    "colab_type": "code",
    "id": "Iv2iIepdcf4v"
   },
   "outputs": [],
   "source": [
    "from sklearn.metrics import confusion_matrix\n",
    "from sklearn.metrics import accuracy_score"
   ]
  },
  {
   "cell_type": "code",
   "execution_count": 0,
   "metadata": {
    "colab": {},
    "colab_type": "code",
    "id": "xMC7XQuObpMR"
   },
   "outputs": [],
   "source": [
    "# KNN\n",
    "\n",
    "from sklearn.neighbors import  KNeighborsClassifier"
   ]
  },
  {
   "cell_type": "code",
   "execution_count": 0,
   "metadata": {
    "colab": {},
    "colab_type": "code",
    "id": "czeRrqGvb6kE"
   },
   "outputs": [],
   "source": [
    "confus_matrix = []\n",
    "# k_values = []\n",
    "acc_score= []\n",
    "\n",
    "\n",
    "# for k in  range(4,30):\n",
    "knn = KNeighborsClassifier(n_neighbors= 15, p=1)\n",
    "knn.fit(X_train, y_train)\n",
    "knn_y_pred = knn.predict(X_test)\n",
    "# k_values.append(k)\n",
    "confus_matrix.append(confusion_matrix(y_test, knn_y_pred))\n",
    "acc_score.append(accuracy_score(y_test, knn_y_pred))"
   ]
  },
  {
   "cell_type": "markdown",
   "metadata": {
    "colab_type": "text",
    "id": "ZWQJIEYgJAUL"
   },
   "source": [
    "\n",
    "## Evaluating a model \n",
    "\n",
    "### confusion matrix using "
   ]
  },
  {
   "cell_type": "code",
   "execution_count": 39,
   "metadata": {
    "colab": {
     "base_uri": "https://localhost:8080/",
     "height": 51
    },
    "colab_type": "code",
    "id": "gQOuzcF_HKla",
    "outputId": "4c9f4ea9-922d-41cb-c8f9-197c26e3d424"
   },
   "outputs": [
    {
     "data": {
      "text/plain": [
       "[array([[  3998,  84998],\n",
       "        [  2486, 782312]])]"
      ]
     },
     "execution_count": 39,
     "metadata": {
      "tags": []
     },
     "output_type": "execute_result"
    }
   ],
   "source": [
    "confus_matrix"
   ]
  },
  {
   "cell_type": "markdown",
   "metadata": {
    "colab_type": "text",
    "id": "ATf-A432M0G2"
   },
   "source": [
    "## accuracy score"
   ]
  },
  {
   "cell_type": "markdown",
   "metadata": {
    "colab_type": "text",
    "id": "luUvHVqJMtXP"
   },
   "source": []
  },
  {
   "cell_type": "code",
   "execution_count": 40,
   "metadata": {
    "colab": {
     "base_uri": "https://localhost:8080/",
     "height": 34
    },
    "colab_type": "code",
    "id": "FVK95_Pbfwzi",
    "outputId": "75cacefa-616a-4a2a-f5c9-5bcf43ae2d73"
   },
   "outputs": [
    {
     "data": {
      "text/plain": [
       "[0.8998802921512393]"
      ]
     },
     "execution_count": 40,
     "metadata": {
      "tags": []
     },
     "output_type": "execute_result"
    }
   ],
   "source": [
    "acc_score"
   ]
  },
  {
   "cell_type": "markdown",
   "metadata": {
    "colab_type": "text",
    "id": "rRffXgooNOn5"
   },
   "source": [
    "## Report summary"
   ]
  },
  {
   "cell_type": "code",
   "execution_count": 0,
   "metadata": {
    "colab": {},
    "colab_type": "code",
    "id": "exPLN2-KNXTc"
   },
   "outputs": [],
   "source": [
    "from sklearn.metrics import classification_report"
   ]
  },
  {
   "cell_type": "code",
   "execution_count": 42,
   "metadata": {
    "colab": {
     "base_uri": "https://localhost:8080/",
     "height": 170
    },
    "colab_type": "code",
    "id": "r6G1fqfwON1Q",
    "outputId": "d769c227-cb9c-44c2-aa33-d58d45b1a430"
   },
   "outputs": [
    {
     "name": "stdout",
     "output_type": "stream",
     "text": [
      "              precision    recall  f1-score   support\n",
      "\n",
      "           0       0.62      0.04      0.08     88996\n",
      "           1       0.90      1.00      0.95    784798\n",
      "\n",
      "   micro avg       0.90      0.90      0.90    873794\n",
      "   macro avg       0.76      0.52      0.52    873794\n",
      "weighted avg       0.87      0.90      0.86    873794\n",
      "\n"
     ]
    }
   ],
   "source": [
    "print(classification_report(y_test, knn_y_pred))"
   ]
  },
  {
   "cell_type": "code",
   "execution_count": 0,
   "metadata": {
    "colab": {},
    "colab_type": "code",
    "id": "_qM-cphzNB7c"
   },
   "outputs": [],
   "source": []
  },
  {
   "cell_type": "markdown",
   "metadata": {
    "colab_type": "text",
    "id": "qHZL8c5gOr2l"
   },
   "source": [
    "## using random forest"
   ]
  },
  {
   "cell_type": "code",
   "execution_count": 0,
   "metadata": {
    "colab": {},
    "colab_type": "code",
    "id": "uCRwN2tuf7dD"
   },
   "outputs": [],
   "source": [
    "from sklearn.ensemble import  RandomForestClassifier\n",
    "\n",
    "\n",
    "\n",
    "randomforest = RandomForestClassifier(n_estimators=40 , random_state=0)\n",
    "\n"
   ]
  },
  {
   "cell_type": "code",
   "execution_count": 0,
   "metadata": {
    "colab": {},
    "colab_type": "code",
    "id": "yYmf66rwysM7"
   },
   "outputs": [],
   "source": [
    "randomforest.fit(X_train, y_train)\n",
    "\n",
    "\n",
    "rand_y_pred = randomforest.predict(X_test)"
   ]
  },
  {
   "cell_type": "markdown",
   "metadata": {
    "colab_type": "text",
    "id": "1VNbPO0qbehm"
   },
   "source": []
  },
  {
   "cell_type": "code",
   "execution_count": 0,
   "metadata": {
    "colab": {},
    "colab_type": "code",
    "id": "FaXmrg86RUHB"
   },
   "outputs": [],
   "source": []
  },
  {
   "cell_type": "markdown",
   "metadata": {
    "colab_type": "text",
    "id": "i2jJ_bWnRXcw"
   },
   "source": [
    "## Evaluating the model"
   ]
  },
  {
   "cell_type": "markdown",
   "metadata": {
    "colab_type": "text",
    "id": "CSpor0rvRgim"
   },
   "source": [
    "### confusion matrix"
   ]
  },
  {
   "cell_type": "code",
   "execution_count": 45,
   "metadata": {
    "colab": {
     "base_uri": "https://localhost:8080/",
     "height": 51
    },
    "colab_type": "code",
    "id": "wNvxpUQfs1oe",
    "outputId": "6574bdcc-09fe-4f93-d58b-26a89a973790"
   },
   "outputs": [
    {
     "data": {
      "text/plain": [
       "array([[  8842,  80154],\n",
       "       [ 18289, 766509]])"
      ]
     },
     "execution_count": 45,
     "metadata": {
      "tags": []
     },
     "output_type": "execute_result"
    }
   ],
   "source": [
    "confusion_matrix(y_test, rand_y_pred)"
   ]
  },
  {
   "cell_type": "markdown",
   "metadata": {
    "colab_type": "text",
    "id": "W15NclZWRuI4"
   },
   "source": [
    "### accuracy score "
   ]
  },
  {
   "cell_type": "code",
   "execution_count": 46,
   "metadata": {
    "colab": {
     "base_uri": "https://localhost:8080/",
     "height": 51
    },
    "colab_type": "code",
    "id": "bKbHsTx1RzYm",
    "outputId": "74211306-e2eb-476b-a60c-a91bb0095c00"
   },
   "outputs": [
    {
     "data": {
      "text/plain": [
       "array([[  8842,  80154],\n",
       "       [ 18289, 766509]])"
      ]
     },
     "execution_count": 46,
     "metadata": {
      "tags": []
     },
     "output_type": "execute_result"
    }
   ],
   "source": [
    "confusion_matrix(y_test, rand_y_pred)"
   ]
  },
  {
   "cell_type": "markdown",
   "metadata": {
    "colab_type": "text",
    "id": "KWO7pVMQStF0"
   },
   "source": [
    "### classification report"
   ]
  },
  {
   "cell_type": "code",
   "execution_count": 47,
   "metadata": {
    "colab": {
     "base_uri": "https://localhost:8080/",
     "height": 170
    },
    "colab_type": "code",
    "id": "Fx_AntJwOMea",
    "outputId": "b0eb0d07-39a6-4b3e-bbf7-ba92ebfa415d"
   },
   "outputs": [
    {
     "name": "stdout",
     "output_type": "stream",
     "text": [
      "              precision    recall  f1-score   support\n",
      "\n",
      "           0       0.33      0.10      0.15     88996\n",
      "           1       0.91      0.98      0.94    784798\n",
      "\n",
      "   micro avg       0.89      0.89      0.89    873794\n",
      "   macro avg       0.62      0.54      0.55    873794\n",
      "weighted avg       0.85      0.89      0.86    873794\n",
      "\n"
     ]
    }
   ],
   "source": [
    "print(classification_report(y_test, rand_y_pred))"
   ]
  },
  {
   "cell_type": "code",
   "execution_count": 0,
   "metadata": {
    "colab": {},
    "colab_type": "code",
    "id": "6il551axUrMG"
   },
   "outputs": [],
   "source": []
  },
  {
   "cell_type": "markdown",
   "metadata": {
    "colab_type": "text",
    "id": "gnSCdgCg6Ejr"
   },
   "source": [
    "## Questions"
   ]
  },
  {
   "cell_type": "markdown",
   "metadata": {
    "colab_type": "text",
    "id": "M0GL9VLa6LfR"
   },
   "source": [
    "**Model Selection**\n",
    "\n",
    "**Which model did you select and why?**\n",
    "\n",
    "KNN because as compared with other models such as SVM , Decision Tree and Random Forest it performed a little bit better though not soo good especially in perdicting True Negative \n",
    "\n",
    "**How does the model work (Without Scikit-learn 😃 )**\n",
    "\n",
    "Given a number n as neighbores , it counts which class majoriry obeservation falls into and classify the observation as part of that class.\\\n",
    "\n",
    "**Model instantiation**\n",
    "\n",
    "**Are there any parameters you needed to instantiate for your model?**\n",
    "\n",
    "Yes , number of neighbors and P value that determines with method to be used to identify distance between two point.\n",
    "\n",
    "example\n",
    "    default = 2 , for the Minkowski metric. When p = 1, this is\n",
    "    equivalent to using manhattan distance (l1), and euclidean distance"
   ]
  },
  {
   "cell_type": "markdown",
   "metadata": {
    "colab_type": "text",
    "id": "wzXeiVQBUfAh"
   },
   "source": [
    "**Describe two testing approaches in machine learning.**\n",
    "\n",
    "**Training Dataset**\n",
    "Prepare your model on the entire training dataset, then evaluate the model on the same dataset.\n",
    "\n",
    "\n",
    "**Supplied Test Set**\n",
    "Split your dataset manually using another program. Prepare your model on the entire training dataset and use the separate test set to evaluate the performance of the model. This is a good approach if you have a large dataset.\n",
    "\n",
    "**Percentage Split**\n",
    "Randomly split your dataset into a training and a testing partitions each time you evaluate a model. This can give you a very quick estimate of performance and like using a supplied test set, is preferable only when you have a large dataset.\n",
    "\n",
    "**Cross Validation**\n",
    "Split the dataset into k-partitions or folds. Train a model on all of the partitions except one that is held out as the test set, then repeat this process creating k-different models and give each fold a chance of being held out as the test set. Then calculate the average performance of all k models."
   ]
  },
  {
   "cell_type": "markdown",
   "metadata": {
    "colab_type": "text",
    "id": "oQwLowuF0Xej"
   },
   "source": []
  },
  {
   "cell_type": "markdown",
   "metadata": {
    "colab_type": "text",
    "id": "NcoSu7P5m4dM"
   },
   "source": [
    "**In which situations would using accuracy to measure performance of a model a bad idea?**\n",
    "\n",
    "\n",
    "Confusion matrix is the number of correct predictions out of all predictions made, often presented as a percentage where 100% is the best an algorithm can achieve. Can be misleading when used on unbalanced classes,"
   ]
  },
  {
   "cell_type": "markdown",
   "metadata": {
    "colab_type": "text",
    "id": "cRrv3XNOney9"
   },
   "source": [
    "**Describe two other performance measures and when best to apply them.**\n",
    "\n",
    "1. Confusion matrix. A table showing the number of predictions for each class compared to the number of instances that actually belong to each class. \n",
    "\n",
    "    useful when you want to compare how the model predicts correctly and wrongly.\n",
    "    \n",
    "2. Precision . Precision is the ratio of correct predictions to the total no. of predicted correct predictions. This measures how precise the classifier is when predicting positive instances.\n",
    "\n",
    "\n",
    "**in the dataset above, which performance measures are most relevant.**\n",
    "\n",
    "confusion matrix , \n",
    "Precision \n",
    "Recall"
   ]
  }
 ],
 "metadata": {
  "accelerator": "TPU",
  "colab": {
   "collapsed_sections": [],
   "name": "h1b-visa.ipynb",
   "provenance": [],
   "version": "0.3.2"
  },
  "kernelspec": {
   "display_name": "Python 3",
   "language": "python",
   "name": "python3"
  },
  "language_info": {
   "codemirror_mode": {
    "name": "ipython",
    "version": 3
   },
   "file_extension": ".py",
   "mimetype": "text/x-python",
   "name": "python",
   "nbconvert_exporter": "python",
   "pygments_lexer": "ipython3",
   "version": "3.6.5"
  }
 },
 "nbformat": 4,
 "nbformat_minor": 1
}
